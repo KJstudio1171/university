{
 "cells": [
  {
   "cell_type": "code",
   "execution_count": null,
   "metadata": {},
   "outputs": [],
   "source": [
    "import pandas as pd\n",
    "import numpy as np\n",
    "data = pd.read_csv(\"데이터.csv\")"
   ]
  },
  {
   "cell_type": "code",
   "execution_count": null,
   "metadata": {},
   "outputs": [],
   "source": [
    "data.head()\n",
    "# 데이터 앞부분 살펴보기"
   ]
  },
  {
   "cell_type": "code",
   "execution_count": null,
   "metadata": {},
   "outputs": [],
   "source": [
    "data.shape\n",
    "#데이터 차원"
   ]
  },
  {
   "cell_type": "code",
   "execution_count": null,
   "metadata": {},
   "outputs": [],
   "source": [
    "data.columns.values\n",
    "#변수명 보기"
   ]
  },
  {
   "cell_type": "code",
   "execution_count": null,
   "metadata": {},
   "outputs": [],
   "source": [
    "data.describe()\n",
    "#변수별 요약\n",
    "#std == 표준편차"
   ]
  },
  {
   "cell_type": "code",
   "execution_count": null,
   "metadata": {},
   "outputs": [],
   "source": [
    "data.dtypes\n",
    "#변수의 타입보기"
   ]
  },
  {
   "cell_type": "code",
   "execution_count": null,
   "metadata": {},
   "outputs": [],
   "source": [
    "pd.notnull(data['일강수량(mm)'])"
   ]
  },
  {
   "cell_type": "code",
   "execution_count": null,
   "metadata": {},
   "outputs": [],
   "source": [
    "pd.isnull(data['일강수량(mm)']).values.ravel().sum()\n",
    "# ravel()은 계산이 가능하도록 수치벡터로 변환한다."
   ]
  },
  {
   "cell_type": "code",
   "execution_count": null,
   "metadata": {},
   "outputs": [],
   "source": [
    "pd.notnull(data['일강수량(mm)']).values.ravel().sum()"
   ]
  },
  {
   "cell_type": "code",
   "execution_count": null,
   "metadata": {},
   "outputs": [],
   "source": [
    "data.dropna(axis=0,how='all')\n",
    "# 결측치가 있는 데이터 삭제\n",
    "# axis 0 or index == row drop, 1 or columns == columns drop\n",
    "# any == 1개만 있어도 삭제, all == 모두가 NaN이어야 삭제"
   ]
  },
  {
   "cell_type": "code",
   "execution_count": null,
   "metadata": {},
   "outputs": [],
   "source": [
    "data.fillna(0)\n",
    "# 결측치에 대하여 동일한 값 채우기\n",
    "# fillna(method='ffill') 가장 가까운 앞의 값으로 채움"
   ]
  },
  {
   "cell_type": "code",
   "execution_count": null,
   "metadata": {},
   "outputs": [],
   "source": [
    "#데이터 부분 추출\n",
    "wanted_columns = ['a', 'b', 'c']\n",
    "subdata = data[wanted_columns]\n",
    "\n",
    "column_list = data.columns.values.tolist()\n",
    "subdata2 = data[[x for x in column_list if x not in wanted_columns]]"
   ]
  },
  {
   "cell_type": "code",
   "execution_count": null,
   "metadata": {},
   "outputs": [],
   "source": [
    "# 행과 열을 조합한 선택\n",
    "data[['a', 'b', 'c']][1:30]\n",
    "data.iloc[1:30, 1:30]\n",
    "data.loc[[1,2,3], ['a', 'b', 'c']]"
   ]
  },
  {
   "cell_type": "code",
   "execution_count": null,
   "metadata": {},
   "outputs": [],
   "source": [
    "grouped = data.groupby('일강수량(mm)')\n",
    "for i,j in grouped:\n",
    "\tprint(i)\n",
    "\tprint(j)\n",
    "\n",
    "# i 는 대표값, j는 데이터"
   ]
  },
  {
   "cell_type": "code",
   "execution_count": null,
   "metadata": {},
   "outputs": [],
   "source": [
    "grouped.sum()\n",
    "grouped.size()\n",
    "grouped.describe()\n",
    "grouped.aggregate({'a':np.sum,'b':np.mean, 'c':np.sum})\n",
    "grouped['a'].filter(lambda x:x.sum() > 700)\n",
    "grouped.transform(lambda x : x/2)\n"
   ]
  },
  {
   "cell_type": "code",
   "execution_count": null,
   "metadata": {},
   "outputs": [],
   "source": [
    "# 데이터 덧 붙이기\n",
    "data = pd.concat([data1, data2], axis=0)"
   ]
  },
  {
   "cell_type": "code",
   "execution_count": null,
   "metadata": {},
   "outputs": [],
   "source": [
    "# 유일한 값 찾기\n",
    "data['a'].unique().tolist()"
   ]
  },
  {
   "cell_type": "code",
   "execution_count": null,
   "metadata": {},
   "outputs": [],
   "source": [
    "# 중복 제거\n",
    "data.drop_duplicates(subset='a')"
   ]
  },
  {
   "cell_type": "code",
   "execution_count": null,
   "metadata": {},
   "outputs": [],
   "source": [
    "pd.concat()\n",
    "# 데이터 프레임을 물리적으로 이어 붙여주는 함수\n",
    "\n",
    "pd.merge()\n",
    "# 데이터 프레임을 key를 기준으로 병합\n",
    "\n",
    "pd.join()\n",
    "# 행 인덱스를 기준으로 결합"
   ]
  }
 ],
 "metadata": {
  "interpreter": {
   "hash": "01c077b0aec285b1069da3b3a8b6252760a9cd8afe3b8662c12893f965a2a249"
  },
  "kernelspec": {
   "display_name": "Python 3.9.2 64-bit",
   "language": "python",
   "name": "python3"
  },
  "language_info": {
   "codemirror_mode": {
    "name": "ipython",
    "version": 3
   },
   "file_extension": ".py",
   "mimetype": "text/x-python",
   "name": "python",
   "nbconvert_exporter": "python",
   "pygments_lexer": "ipython3",
   "version": "3.9.2"
  },
  "orig_nbformat": 4
 },
 "nbformat": 4,
 "nbformat_minor": 2
}
